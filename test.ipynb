{
 "cells": [
  {
   "cell_type": "code",
   "execution_count": 20,
   "id": "207cb676",
   "metadata": {},
   "outputs": [],
   "source": [
    "from requests_oauthlib import OAuth1\n",
    "import pandas as pd\n",
    "from dotenv import load_dotenv\n",
    "import streamlit as st\n",
    "import requests as req\n",
    "import os\n",
    "# Cargar las variables del archivo .env\n",
    "load_dotenv()\n",
    "\n",
    "# Juramento para autentificarse en la API. OAuth1: identificación usuario y contraseña\n",
    "oauth = OAuth1(\n",
    "                os.getenv(\"key\"),\n",
    "                client_secret=os.getenv('secret'),\n",
    "                resource_owner_key=os.getenv('access_oauth_token'),\n",
    "                resource_owner_secret=os.getenv('access_oauth_token_secret'),\n",
    "                verifier=os.getenv('oauth_verifier')\n",
    "                )\n",
    "\n",
    "url = f\"https://api.discogs.com/releases/1117020\"\n",
    "res = req.get(url, auth=oauth)\n",
    "\n",
    "#num_for_sale =res.json()['num_for_sale']\n",
    "#lowest_price = res.json()['lowest_price']\n",
    "title = res.json()['title']\n",
    "country = res.json()['country']\n",
    "released = res.json()['released']\n",
    "notes = res.json()['notes']\n",
    "barcode = res.json()['identifiers'][1]\n",
    "matrix = res.json()['identifiers'][5]['value']"
   ]
  },
  {
   "cell_type": "code",
   "execution_count": 19,
   "id": "e5c78b72",
   "metadata": {},
   "outputs": [],
   "source": [
    "barcode = res.json()['identifiers'][1]\n",
    "matrix = res.json()['identifiers'][5]['value']"
   ]
  },
  {
   "cell_type": "code",
   "execution_count": null,
   "id": "003264f4",
   "metadata": {},
   "outputs": [],
   "source": []
  }
 ],
 "metadata": {
  "kernelspec": {
   "display_name": "AudioTransfer",
   "language": "python",
   "name": "python3"
  },
  "language_info": {
   "codemirror_mode": {
    "name": "ipython",
    "version": 3
   },
   "file_extension": ".py",
   "mimetype": "text/x-python",
   "name": "python",
   "nbconvert_exporter": "python",
   "pygments_lexer": "ipython3",
   "version": "3.13.2"
  }
 },
 "nbformat": 4,
 "nbformat_minor": 5
}
